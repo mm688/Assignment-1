{
 "cells": [
  {
   "cell_type": "code",
   "execution_count": 1,
   "metadata": {},
   "outputs": [
    {
     "name": "stdout",
     "output_type": "stream",
     "text": [
      "Python version\n",
      "3.7.4 (default, Aug  9 2019, 18:22:51) [MSC v.1915 32 bit (Intel)]\n",
      "Version Information.\n",
      "sys.version_info(major=3, minor=7, micro=4, releaselevel='final', serial=0)\n"
     ]
    }
   ],
   "source": [
    "#Write a Python program to get the Python version you are using.\n",
    "import sys\n",
    "\n",
    "\n",
    "print (\"Python version\")\n",
    "print(sys.version)\n",
    "print(\"Version Information.\")\n",
    "print(sys.version_info)"
   ]
  },
  {
   "cell_type": "code",
   "execution_count": 2,
   "metadata": {},
   "outputs": [
    {
     "name": "stdout",
     "output_type": "stream",
     "text": [
      "Twinkle, twinkle, little star ,\n",
      "\t How I wonder what you are!, \n",
      "\t\t Up above the world so high,\n",
      "\t\t Like a diamond in the Sky,\n",
      "Twinkle, twinkle, little star,\n",
      "\t How I wonder What you are!\n"
     ]
    }
   ],
   "source": [
    "#Write a Python program to print the following string in a specific format.\n",
    "print(\"Twinkle, twinkle, little star ,\\n\\t How I wonder what you are!, \\n\\t\\t Up above the world so high,\\n\\t\\t Like a diamond in the Sky,\\nTwinkle, twinkle, little star,\\n\\t How I wonder What you are!\")"
   ]
  },
  {
   "cell_type": "code",
   "execution_count": 3,
   "metadata": {},
   "outputs": [
    {
     "name": "stdout",
     "output_type": "stream",
     "text": [
      "Date and time:2019-11-02 14:00:20\n"
     ]
    }
   ],
   "source": [
    "#Write a Python program to display the current date and time.\n",
    "import datetime\n",
    "\n",
    "now=datetime.datetime.now()\n",
    "  \n",
    "dateStr=now.strftime(\"%Y-%m-%d %H:%M:%S\")\n",
    "print(\"Date and time:\"+dateStr)"
   ]
  },
  {
   "cell_type": "code",
   "execution_count": 11,
   "metadata": {},
   "outputs": [
    {
     "name": "stdout",
     "output_type": "stream",
     "text": [
      "Enter the radius of the circle:4.02\n",
      "Area of the circle: 50.76939391907248\n"
     ]
    }
   ],
   "source": [
    "#Write a Python program which accepts the radius of a circle from the user and compute the area.\n",
    "from math import pi;\n",
    "\n",
    "r=float(input(\"Enter the radius of the circle:\"))\n",
    "area=pi*r**2\n",
    "print(\"Area of the circle:\",area)"
   ]
  },
  {
   "cell_type": "code",
   "execution_count": 13,
   "metadata": {},
   "outputs": [
    {
     "name": "stdout",
     "output_type": "stream",
     "text": [
      "Write your first name: Musfira\n",
      "Write your last name: Masroor\n",
      "Masroor Musfira\n"
     ]
    }
   ],
   "source": [
    "#Write a Python program which accepts the user's first and last name and print them in reverse order with a space between them.\n",
    "first_name=input(\"Write your first name: \")\n",
    "last_name=input(\"Write your last name: \")\n",
    "\n",
    "print(last_name+\" \"+first_name)"
   ]
  },
  {
   "cell_type": "code",
   "execution_count": 14,
   "metadata": {},
   "outputs": [
    {
     "name": "stdout",
     "output_type": "stream",
     "text": [
      "Enter the first number:5\n",
      "Enter the second number:6\n",
      "11\n"
     ]
    }
   ],
   "source": [
    "#Write a python program which takes two inputs from user and print them addition.\n",
    "x=int(input(\"Enter the first number:\"))\n",
    "y=int(input(\"Enter the second number:\"))\n",
    "\n",
    "print(x+y)\n"
   ]
  },
  {
   "cell_type": "code",
   "execution_count": null,
   "metadata": {},
   "outputs": [],
   "source": []
  }
 ],
 "metadata": {
  "kernelspec": {
   "display_name": "Python 3",
   "language": "python",
   "name": "python3"
  },
  "language_info": {
   "codemirror_mode": {
    "name": "ipython",
    "version": 3
   },
   "file_extension": ".py",
   "mimetype": "text/x-python",
   "name": "python",
   "nbconvert_exporter": "python",
   "pygments_lexer": "ipython3",
   "version": "3.7.4"
  }
 },
 "nbformat": 4,
 "nbformat_minor": 2
}
